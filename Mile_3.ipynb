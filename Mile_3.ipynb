{
  "nbformat": 4,
  "nbformat_minor": 0,
  "metadata": {
    "colab": {
      "name": "Mile_3.ipynb",
      "provenance": []
    },
    "kernelspec": {
      "name": "python3",
      "display_name": "Python 3"
    }
  },
  "cells": [
    {
      "cell_type": "code",
      "metadata": {
        "id": "LLaoKlApKQEC",
        "colab_type": "code",
        "colab": {}
      },
      "source": [
        "import pandas as pd\n",
        "import numpy as np \n",
        "import matplotlib.pyplot  as plt"
      ],
      "execution_count": 1,
      "outputs": []
    },
    {
      "cell_type": "code",
      "metadata": {
        "id": "MVbpCafTLJUQ",
        "colab_type": "code",
        "colab": {
          "base_uri": "https://localhost:8080/",
          "height": 218
        },
        "outputId": "72ec605c-ef80-47f9-ddf5-08fbbf29df28"
      },
      "source": [
        "! pip install yfinance"
      ],
      "execution_count": 2,
      "outputs": [
        {
          "output_type": "stream",
          "text": [
            "Requirement already satisfied: yfinance in /usr/local/lib/python3.6/dist-packages (0.1.54)\n",
            "Requirement already satisfied: numpy>=1.15 in /usr/local/lib/python3.6/dist-packages (from yfinance) (1.18.5)\n",
            "Requirement already satisfied: requests>=2.20 in /usr/local/lib/python3.6/dist-packages (from yfinance) (2.23.0)\n",
            "Requirement already satisfied: pandas>=0.24 in /usr/local/lib/python3.6/dist-packages (from yfinance) (1.0.5)\n",
            "Requirement already satisfied: multitasking>=0.0.7 in /usr/local/lib/python3.6/dist-packages (from yfinance) (0.0.9)\n",
            "Requirement already satisfied: urllib3!=1.25.0,!=1.25.1,<1.26,>=1.21.1 in /usr/local/lib/python3.6/dist-packages (from requests>=2.20->yfinance) (1.24.3)\n",
            "Requirement already satisfied: certifi>=2017.4.17 in /usr/local/lib/python3.6/dist-packages (from requests>=2.20->yfinance) (2020.6.20)\n",
            "Requirement already satisfied: idna<3,>=2.5 in /usr/local/lib/python3.6/dist-packages (from requests>=2.20->yfinance) (2.10)\n",
            "Requirement already satisfied: chardet<4,>=3.0.2 in /usr/local/lib/python3.6/dist-packages (from requests>=2.20->yfinance) (3.0.4)\n",
            "Requirement already satisfied: python-dateutil>=2.6.1 in /usr/local/lib/python3.6/dist-packages (from pandas>=0.24->yfinance) (2.8.1)\n",
            "Requirement already satisfied: pytz>=2017.2 in /usr/local/lib/python3.6/dist-packages (from pandas>=0.24->yfinance) (2018.9)\n",
            "Requirement already satisfied: six>=1.5 in /usr/local/lib/python3.6/dist-packages (from python-dateutil>=2.6.1->pandas>=0.24->yfinance) (1.15.0)\n"
          ],
          "name": "stdout"
        }
      ]
    },
    {
      "cell_type": "code",
      "metadata": {
        "id": "GFJtVv_8LNo_",
        "colab_type": "code",
        "colab": {}
      },
      "source": [
        "import yfinance as yf"
      ],
      "execution_count": 3,
      "outputs": []
    },
    {
      "cell_type": "code",
      "metadata": {
        "id": "JmS1AI3wLins",
        "colab_type": "code",
        "colab": {
          "base_uri": "https://localhost:8080/",
          "height": 34
        },
        "outputId": "6f56fb06-94aa-4502-b4f5-0b90206ba39c"
      },
      "source": [
        "data = yf.download(\"MSFT\", start_date = \"2002-01-01\" , end_date = \"2020-01-01\")"
      ],
      "execution_count": 4,
      "outputs": [
        {
          "output_type": "stream",
          "text": [
            "\r[*********************100%***********************]  1 of 1 completed\n"
          ],
          "name": "stdout"
        }
      ]
    },
    {
      "cell_type": "code",
      "metadata": {
        "id": "d6mx9k3LnImI",
        "colab_type": "code",
        "colab": {
          "base_uri": "https://localhost:8080/",
          "height": 34
        },
        "outputId": "f88f7e23-92e1-47d7-cdac-32f205b49311"
      },
      "source": [
        "data.shape"
      ],
      "execution_count": 5,
      "outputs": [
        {
          "output_type": "execute_result",
          "data": {
            "text/plain": [
              "(8697, 6)"
            ]
          },
          "metadata": {
            "tags": []
          },
          "execution_count": 5
        }
      ]
    },
    {
      "cell_type": "code",
      "metadata": {
        "id": "0AM73GNf1Gjh",
        "colab_type": "code",
        "colab": {
          "base_uri": "https://localhost:8080/",
          "height": 431
        },
        "outputId": "5d92cc55-a475-4505-ab15-00a1b993e636"
      },
      "source": [
        "data"
      ],
      "execution_count": 6,
      "outputs": [
        {
          "output_type": "execute_result",
          "data": {
            "text/html": [
              "<div>\n",
              "<style scoped>\n",
              "    .dataframe tbody tr th:only-of-type {\n",
              "        vertical-align: middle;\n",
              "    }\n",
              "\n",
              "    .dataframe tbody tr th {\n",
              "        vertical-align: top;\n",
              "    }\n",
              "\n",
              "    .dataframe thead th {\n",
              "        text-align: right;\n",
              "    }\n",
              "</style>\n",
              "<table border=\"1\" class=\"dataframe\">\n",
              "  <thead>\n",
              "    <tr style=\"text-align: right;\">\n",
              "      <th></th>\n",
              "      <th>Open</th>\n",
              "      <th>High</th>\n",
              "      <th>Low</th>\n",
              "      <th>Close</th>\n",
              "      <th>Adj Close</th>\n",
              "      <th>Volume</th>\n",
              "    </tr>\n",
              "    <tr>\n",
              "      <th>Date</th>\n",
              "      <th></th>\n",
              "      <th></th>\n",
              "      <th></th>\n",
              "      <th></th>\n",
              "      <th></th>\n",
              "      <th></th>\n",
              "    </tr>\n",
              "  </thead>\n",
              "  <tbody>\n",
              "    <tr>\n",
              "      <th>1986-03-13</th>\n",
              "      <td>0.088542</td>\n",
              "      <td>0.101562</td>\n",
              "      <td>0.088542</td>\n",
              "      <td>0.097222</td>\n",
              "      <td>0.062055</td>\n",
              "      <td>1031788800</td>\n",
              "    </tr>\n",
              "    <tr>\n",
              "      <th>1986-03-14</th>\n",
              "      <td>0.097222</td>\n",
              "      <td>0.102431</td>\n",
              "      <td>0.097222</td>\n",
              "      <td>0.100694</td>\n",
              "      <td>0.064271</td>\n",
              "      <td>308160000</td>\n",
              "    </tr>\n",
              "    <tr>\n",
              "      <th>1986-03-17</th>\n",
              "      <td>0.100694</td>\n",
              "      <td>0.103299</td>\n",
              "      <td>0.100694</td>\n",
              "      <td>0.102431</td>\n",
              "      <td>0.065379</td>\n",
              "      <td>133171200</td>\n",
              "    </tr>\n",
              "    <tr>\n",
              "      <th>1986-03-18</th>\n",
              "      <td>0.102431</td>\n",
              "      <td>0.103299</td>\n",
              "      <td>0.098958</td>\n",
              "      <td>0.099826</td>\n",
              "      <td>0.063717</td>\n",
              "      <td>67766400</td>\n",
              "    </tr>\n",
              "    <tr>\n",
              "      <th>1986-03-19</th>\n",
              "      <td>0.099826</td>\n",
              "      <td>0.100694</td>\n",
              "      <td>0.097222</td>\n",
              "      <td>0.098090</td>\n",
              "      <td>0.062609</td>\n",
              "      <td>47894400</td>\n",
              "    </tr>\n",
              "    <tr>\n",
              "      <th>...</th>\n",
              "      <td>...</td>\n",
              "      <td>...</td>\n",
              "      <td>...</td>\n",
              "      <td>...</td>\n",
              "      <td>...</td>\n",
              "      <td>...</td>\n",
              "    </tr>\n",
              "    <tr>\n",
              "      <th>2020-09-04</th>\n",
              "      <td>215.100006</td>\n",
              "      <td>218.360001</td>\n",
              "      <td>205.190002</td>\n",
              "      <td>214.250000</td>\n",
              "      <td>214.250000</td>\n",
              "      <td>59664100</td>\n",
              "    </tr>\n",
              "    <tr>\n",
              "      <th>2020-09-08</th>\n",
              "      <td>206.500000</td>\n",
              "      <td>210.029999</td>\n",
              "      <td>202.199997</td>\n",
              "      <td>202.660004</td>\n",
              "      <td>202.660004</td>\n",
              "      <td>52924300</td>\n",
              "    </tr>\n",
              "    <tr>\n",
              "      <th>2020-09-09</th>\n",
              "      <td>207.600006</td>\n",
              "      <td>214.839996</td>\n",
              "      <td>206.699997</td>\n",
              "      <td>211.289993</td>\n",
              "      <td>211.289993</td>\n",
              "      <td>45679000</td>\n",
              "    </tr>\n",
              "    <tr>\n",
              "      <th>2020-09-10</th>\n",
              "      <td>213.399994</td>\n",
              "      <td>214.740005</td>\n",
              "      <td>204.110001</td>\n",
              "      <td>205.369995</td>\n",
              "      <td>205.369995</td>\n",
              "      <td>35461500</td>\n",
              "    </tr>\n",
              "    <tr>\n",
              "      <th>2020-09-11</th>\n",
              "      <td>207.199997</td>\n",
              "      <td>208.630005</td>\n",
              "      <td>201.240005</td>\n",
              "      <td>204.029999</td>\n",
              "      <td>204.029999</td>\n",
              "      <td>33576500</td>\n",
              "    </tr>\n",
              "  </tbody>\n",
              "</table>\n",
              "<p>8697 rows × 6 columns</p>\n",
              "</div>"
            ],
            "text/plain": [
              "                  Open        High  ...   Adj Close      Volume\n",
              "Date                                ...                        \n",
              "1986-03-13    0.088542    0.101562  ...    0.062055  1031788800\n",
              "1986-03-14    0.097222    0.102431  ...    0.064271   308160000\n",
              "1986-03-17    0.100694    0.103299  ...    0.065379   133171200\n",
              "1986-03-18    0.102431    0.103299  ...    0.063717    67766400\n",
              "1986-03-19    0.099826    0.100694  ...    0.062609    47894400\n",
              "...                ...         ...  ...         ...         ...\n",
              "2020-09-04  215.100006  218.360001  ...  214.250000    59664100\n",
              "2020-09-08  206.500000  210.029999  ...  202.660004    52924300\n",
              "2020-09-09  207.600006  214.839996  ...  211.289993    45679000\n",
              "2020-09-10  213.399994  214.740005  ...  205.369995    35461500\n",
              "2020-09-11  207.199997  208.630005  ...  204.029999    33576500\n",
              "\n",
              "[8697 rows x 6 columns]"
            ]
          },
          "metadata": {
            "tags": []
          },
          "execution_count": 6
        }
      ]
    },
    {
      "cell_type": "code",
      "metadata": {
        "id": "kdge6_jYO4BV",
        "colab_type": "code",
        "colab": {
          "base_uri": "https://localhost:8080/",
          "height": 34
        },
        "outputId": "384383a1-bb46-4eaf-f582-e0f569cc0745"
      },
      "source": [
        "data.isnull().values.any()"
      ],
      "execution_count": 7,
      "outputs": [
        {
          "output_type": "execute_result",
          "data": {
            "text/plain": [
              "False"
            ]
          },
          "metadata": {
            "tags": []
          },
          "execution_count": 7
        }
      ]
    },
    {
      "cell_type": "markdown",
      "metadata": {
        "id": "60I6QRamzjP2",
        "colab_type": "text"
      },
      "source": [
        "Creating the feature vectors for the given stock data."
      ]
    },
    {
      "cell_type": "markdown",
      "metadata": {
        "id": "-KO2aM1t1Ejk",
        "colab_type": "text"
      },
      "source": [
        ""
      ]
    },
    {
      "cell_type": "code",
      "metadata": {
        "id": "DBEzVJufzwtL",
        "colab_type": "code",
        "colab": {}
      },
      "source": [
        "# Moving Average \\\n",
        "pat = 21\n",
        "Y = data[\"Open\"]\n",
        "mv = []\n",
        "for k in range(pat,len(data[\"Open\"])):\n",
        "    mv.append(sum(Y[k-pat:k])/pat)"
      ],
      "execution_count": 8,
      "outputs": []
    },
    {
      "cell_type": "code",
      "metadata": {
        "id": "jot91_bcnKL3",
        "colab_type": "code",
        "colab": {}
      },
      "source": [
        "mv2 = []\n",
        "for k in range(1,len(mv)):\n",
        "    mv2.append((Y[k+pat-1] - mv[k-1])*(2/(pat+1)) + mv[k-1])"
      ],
      "execution_count": 9,
      "outputs": []
    },
    {
      "cell_type": "code",
      "metadata": {
        "id": "blxqnYCyn5XM",
        "colab_type": "code",
        "colab": {}
      },
      "source": [
        "desp = []\n",
        "for k in range(pat,len(data[\"Open\"])):\n",
        "    desp.append(Y[k]/mv[k-pat])\n"
      ],
      "execution_count": 10,
      "outputs": []
    },
    {
      "cell_type": "code",
      "metadata": {
        "id": "qVesnbxSRqaj",
        "colab_type": "code",
        "colab": {
          "base_uri": "https://localhost:8080/",
          "height": 50
        },
        "outputId": "dd960ba9-6bf8-4e18-f9f4-ac19a6c5f087"
      },
      "source": [
        "moment = []\n",
        "moment2 = []\n",
        "roc = []\n",
        "for k in range(pat,len(Y)):\n",
        "    moment.append(Y[k]/Y[k-5])\n",
        "    moment2.append(Y[k] - Y[k-5])\n",
        "    roc.append(Y[k]/moment2[-1])"
      ],
      "execution_count": 11,
      "outputs": [
        {
          "output_type": "stream",
          "text": [
            "/usr/local/lib/python3.6/dist-packages/ipykernel_launcher.py:7: RuntimeWarning: divide by zero encountered in double_scalars\n",
            "  import sys\n"
          ],
          "name": "stderr"
        }
      ]
    },
    {
      "cell_type": "code",
      "metadata": {
        "id": "oRo7KuYYRqWT",
        "colab_type": "code",
        "colab": {}
      },
      "source": [
        "df_np = np.array(data)"
      ],
      "execution_count": 12,
      "outputs": []
    },
    {
      "cell_type": "code",
      "metadata": {
        "id": "FeY-LxuKaQVW",
        "colab_type": "code",
        "colab": {
          "base_uri": "https://localhost:8080/",
          "height": 431
        },
        "outputId": "698fbfb2-2f47-4e55-e4e1-15420f05d14b"
      },
      "source": [
        "data"
      ],
      "execution_count": 13,
      "outputs": [
        {
          "output_type": "execute_result",
          "data": {
            "text/html": [
              "<div>\n",
              "<style scoped>\n",
              "    .dataframe tbody tr th:only-of-type {\n",
              "        vertical-align: middle;\n",
              "    }\n",
              "\n",
              "    .dataframe tbody tr th {\n",
              "        vertical-align: top;\n",
              "    }\n",
              "\n",
              "    .dataframe thead th {\n",
              "        text-align: right;\n",
              "    }\n",
              "</style>\n",
              "<table border=\"1\" class=\"dataframe\">\n",
              "  <thead>\n",
              "    <tr style=\"text-align: right;\">\n",
              "      <th></th>\n",
              "      <th>Open</th>\n",
              "      <th>High</th>\n",
              "      <th>Low</th>\n",
              "      <th>Close</th>\n",
              "      <th>Adj Close</th>\n",
              "      <th>Volume</th>\n",
              "    </tr>\n",
              "    <tr>\n",
              "      <th>Date</th>\n",
              "      <th></th>\n",
              "      <th></th>\n",
              "      <th></th>\n",
              "      <th></th>\n",
              "      <th></th>\n",
              "      <th></th>\n",
              "    </tr>\n",
              "  </thead>\n",
              "  <tbody>\n",
              "    <tr>\n",
              "      <th>1986-03-13</th>\n",
              "      <td>0.088542</td>\n",
              "      <td>0.101562</td>\n",
              "      <td>0.088542</td>\n",
              "      <td>0.097222</td>\n",
              "      <td>0.062055</td>\n",
              "      <td>1031788800</td>\n",
              "    </tr>\n",
              "    <tr>\n",
              "      <th>1986-03-14</th>\n",
              "      <td>0.097222</td>\n",
              "      <td>0.102431</td>\n",
              "      <td>0.097222</td>\n",
              "      <td>0.100694</td>\n",
              "      <td>0.064271</td>\n",
              "      <td>308160000</td>\n",
              "    </tr>\n",
              "    <tr>\n",
              "      <th>1986-03-17</th>\n",
              "      <td>0.100694</td>\n",
              "      <td>0.103299</td>\n",
              "      <td>0.100694</td>\n",
              "      <td>0.102431</td>\n",
              "      <td>0.065379</td>\n",
              "      <td>133171200</td>\n",
              "    </tr>\n",
              "    <tr>\n",
              "      <th>1986-03-18</th>\n",
              "      <td>0.102431</td>\n",
              "      <td>0.103299</td>\n",
              "      <td>0.098958</td>\n",
              "      <td>0.099826</td>\n",
              "      <td>0.063717</td>\n",
              "      <td>67766400</td>\n",
              "    </tr>\n",
              "    <tr>\n",
              "      <th>1986-03-19</th>\n",
              "      <td>0.099826</td>\n",
              "      <td>0.100694</td>\n",
              "      <td>0.097222</td>\n",
              "      <td>0.098090</td>\n",
              "      <td>0.062609</td>\n",
              "      <td>47894400</td>\n",
              "    </tr>\n",
              "    <tr>\n",
              "      <th>...</th>\n",
              "      <td>...</td>\n",
              "      <td>...</td>\n",
              "      <td>...</td>\n",
              "      <td>...</td>\n",
              "      <td>...</td>\n",
              "      <td>...</td>\n",
              "    </tr>\n",
              "    <tr>\n",
              "      <th>2020-09-04</th>\n",
              "      <td>215.100006</td>\n",
              "      <td>218.360001</td>\n",
              "      <td>205.190002</td>\n",
              "      <td>214.250000</td>\n",
              "      <td>214.250000</td>\n",
              "      <td>59664100</td>\n",
              "    </tr>\n",
              "    <tr>\n",
              "      <th>2020-09-08</th>\n",
              "      <td>206.500000</td>\n",
              "      <td>210.029999</td>\n",
              "      <td>202.199997</td>\n",
              "      <td>202.660004</td>\n",
              "      <td>202.660004</td>\n",
              "      <td>52924300</td>\n",
              "    </tr>\n",
              "    <tr>\n",
              "      <th>2020-09-09</th>\n",
              "      <td>207.600006</td>\n",
              "      <td>214.839996</td>\n",
              "      <td>206.699997</td>\n",
              "      <td>211.289993</td>\n",
              "      <td>211.289993</td>\n",
              "      <td>45679000</td>\n",
              "    </tr>\n",
              "    <tr>\n",
              "      <th>2020-09-10</th>\n",
              "      <td>213.399994</td>\n",
              "      <td>214.740005</td>\n",
              "      <td>204.110001</td>\n",
              "      <td>205.369995</td>\n",
              "      <td>205.369995</td>\n",
              "      <td>35461500</td>\n",
              "    </tr>\n",
              "    <tr>\n",
              "      <th>2020-09-11</th>\n",
              "      <td>207.199997</td>\n",
              "      <td>208.630005</td>\n",
              "      <td>201.240005</td>\n",
              "      <td>204.029999</td>\n",
              "      <td>204.029999</td>\n",
              "      <td>33576500</td>\n",
              "    </tr>\n",
              "  </tbody>\n",
              "</table>\n",
              "<p>8697 rows × 6 columns</p>\n",
              "</div>"
            ],
            "text/plain": [
              "                  Open        High  ...   Adj Close      Volume\n",
              "Date                                ...                        \n",
              "1986-03-13    0.088542    0.101562  ...    0.062055  1031788800\n",
              "1986-03-14    0.097222    0.102431  ...    0.064271   308160000\n",
              "1986-03-17    0.100694    0.103299  ...    0.065379   133171200\n",
              "1986-03-18    0.102431    0.103299  ...    0.063717    67766400\n",
              "1986-03-19    0.099826    0.100694  ...    0.062609    47894400\n",
              "...                ...         ...  ...         ...         ...\n",
              "2020-09-04  215.100006  218.360001  ...  214.250000    59664100\n",
              "2020-09-08  206.500000  210.029999  ...  202.660004    52924300\n",
              "2020-09-09  207.600006  214.839996  ...  211.289993    45679000\n",
              "2020-09-10  213.399994  214.740005  ...  205.369995    35461500\n",
              "2020-09-11  207.199997  208.630005  ...  204.029999    33576500\n",
              "\n",
              "[8697 rows x 6 columns]"
            ]
          },
          "metadata": {
            "tags": []
          },
          "execution_count": 13
        }
      ]
    },
    {
      "cell_type": "code",
      "metadata": {
        "id": "vgGTvBvMaVAY",
        "colab_type": "code",
        "colab": {}
      },
      "source": [
        "df = pd.DataFrame()\n",
        "df[\"Open\"] = df_np[22:,0]\n",
        "df[\"Close\"] = df_np[22:,3]\n",
        "df[\"Vol\"] = df_np[22:,5]\n",
        "df[\"High\"] = df_np[22:,1]"
      ],
      "execution_count": 14,
      "outputs": []
    },
    {
      "cell_type": "code",
      "metadata": {
        "id": "cgGJs_-xbVS6",
        "colab_type": "code",
        "colab": {}
      },
      "source": [
        "df[\"Moving average\"] = mv[1:]\n",
        "df[\"Moving Average 2\"] = mv2\n",
        "df[\"Momentum\"] = moment[1:]\n",
        "df[\"Momentum 2\"] = moment2 [1:]\n",
        "df[\"Roc\"] = roc[1:]\n",
        "df[\"Desparity\"] = desp[1:]"
      ],
      "execution_count": 15,
      "outputs": []
    },
    {
      "cell_type": "code",
      "metadata": {
        "id": "FiX9jK4NcfTM",
        "colab_type": "code",
        "colab": {
          "base_uri": "https://localhost:8080/",
          "height": 402
        },
        "outputId": "e4c893f8-35ff-40f8-e55e-cb952efd9c9a"
      },
      "source": [
        "df"
      ],
      "execution_count": 16,
      "outputs": [
        {
          "output_type": "execute_result",
          "data": {
            "text/html": [
              "<div>\n",
              "<style scoped>\n",
              "    .dataframe tbody tr th:only-of-type {\n",
              "        vertical-align: middle;\n",
              "    }\n",
              "\n",
              "    .dataframe tbody tr th {\n",
              "        vertical-align: top;\n",
              "    }\n",
              "\n",
              "    .dataframe thead th {\n",
              "        text-align: right;\n",
              "    }\n",
              "</style>\n",
              "<table border=\"1\" class=\"dataframe\">\n",
              "  <thead>\n",
              "    <tr style=\"text-align: right;\">\n",
              "      <th></th>\n",
              "      <th>Open</th>\n",
              "      <th>Close</th>\n",
              "      <th>Vol</th>\n",
              "      <th>High</th>\n",
              "      <th>Moving average</th>\n",
              "      <th>Moving Average 2</th>\n",
              "      <th>Momentum</th>\n",
              "      <th>Momentum 2</th>\n",
              "      <th>Roc</th>\n",
              "      <th>Desparity</th>\n",
              "    </tr>\n",
              "  </thead>\n",
              "  <tbody>\n",
              "    <tr>\n",
              "      <th>0</th>\n",
              "      <td>0.100694</td>\n",
              "      <td>0.100694</td>\n",
              "      <td>9302400.0</td>\n",
              "      <td>0.100694</td>\n",
              "      <td>0.096437</td>\n",
              "      <td>0.096256</td>\n",
              "      <td>1.064220</td>\n",
              "      <td>0.006076</td>\n",
              "      <td>16.571411</td>\n",
              "      <td>1.044149</td>\n",
              "    </tr>\n",
              "    <tr>\n",
              "      <th>1</th>\n",
              "      <td>0.100694</td>\n",
              "      <td>0.104167</td>\n",
              "      <td>31910400.0</td>\n",
              "      <td>0.105035</td>\n",
              "      <td>0.096602</td>\n",
              "      <td>0.096824</td>\n",
              "      <td>1.054545</td>\n",
              "      <td>0.005208</td>\n",
              "      <td>19.333325</td>\n",
              "      <td>1.042362</td>\n",
              "    </tr>\n",
              "    <tr>\n",
              "      <th>2</th>\n",
              "      <td>0.104167</td>\n",
              "      <td>0.105035</td>\n",
              "      <td>22003200.0</td>\n",
              "      <td>0.105035</td>\n",
              "      <td>0.096602</td>\n",
              "      <td>0.096974</td>\n",
              "      <td>1.071429</td>\n",
              "      <td>0.006944</td>\n",
              "      <td>15.000009</td>\n",
              "      <td>1.078306</td>\n",
              "    </tr>\n",
              "    <tr>\n",
              "      <th>3</th>\n",
              "      <td>0.105035</td>\n",
              "      <td>0.101562</td>\n",
              "      <td>21628800.0</td>\n",
              "      <td>0.105035</td>\n",
              "      <td>0.096685</td>\n",
              "      <td>0.097290</td>\n",
              "      <td>1.061403</td>\n",
              "      <td>0.006076</td>\n",
              "      <td>17.285717</td>\n",
              "      <td>1.086362</td>\n",
              "    </tr>\n",
              "    <tr>\n",
              "      <th>4</th>\n",
              "      <td>0.101562</td>\n",
              "      <td>0.101562</td>\n",
              "      <td>22924800.0</td>\n",
              "      <td>0.102431</td>\n",
              "      <td>0.096933</td>\n",
              "      <td>0.097444</td>\n",
              "      <td>1.017391</td>\n",
              "      <td>0.001736</td>\n",
              "      <td>58.499972</td>\n",
              "      <td>1.047761</td>\n",
              "    </tr>\n",
              "    <tr>\n",
              "      <th>...</th>\n",
              "      <td>...</td>\n",
              "      <td>...</td>\n",
              "      <td>...</td>\n",
              "      <td>...</td>\n",
              "      <td>...</td>\n",
              "      <td>...</td>\n",
              "      <td>...</td>\n",
              "      <td>...</td>\n",
              "      <td>...</td>\n",
              "      <td>...</td>\n",
              "    </tr>\n",
              "    <tr>\n",
              "      <th>8670</th>\n",
              "      <td>215.100006</td>\n",
              "      <td>214.250000</td>\n",
              "      <td>59664100.0</td>\n",
              "      <td>218.360001</td>\n",
              "      <td>215.767619</td>\n",
              "      <td>216.373030</td>\n",
              "      <td>0.942677</td>\n",
              "      <td>-13.079987</td>\n",
              "      <td>-16.444971</td>\n",
              "      <td>0.996906</td>\n",
              "    </tr>\n",
              "    <tr>\n",
              "      <th>8671</th>\n",
              "      <td>206.500000</td>\n",
              "      <td>202.660004</td>\n",
              "      <td>52924300.0</td>\n",
              "      <td>210.029999</td>\n",
              "      <td>215.899048</td>\n",
              "      <td>215.706927</td>\n",
              "      <td>0.909692</td>\n",
              "      <td>-20.500000</td>\n",
              "      <td>-10.073171</td>\n",
              "      <td>0.956466</td>\n",
              "    </tr>\n",
              "    <tr>\n",
              "      <th>8672</th>\n",
              "      <td>207.600006</td>\n",
              "      <td>211.289993</td>\n",
              "      <td>45679000.0</td>\n",
              "      <td>214.839996</td>\n",
              "      <td>215.501429</td>\n",
              "      <td>215.044589</td>\n",
              "      <td>0.920580</td>\n",
              "      <td>-17.909988</td>\n",
              "      <td>-11.591298</td>\n",
              "      <td>0.963335</td>\n",
              "    </tr>\n",
              "    <tr>\n",
              "      <th>8673</th>\n",
              "      <td>213.399994</td>\n",
              "      <td>205.369995</td>\n",
              "      <td>35461500.0</td>\n",
              "      <td>214.740005</td>\n",
              "      <td>215.307619</td>\n",
              "      <td>214.783117</td>\n",
              "      <td>0.936088</td>\n",
              "      <td>-14.570007</td>\n",
              "      <td>-14.646526</td>\n",
              "      <td>0.991140</td>\n",
              "    </tr>\n",
              "    <tr>\n",
              "      <th>8674</th>\n",
              "      <td>207.199997</td>\n",
              "      <td>204.029999</td>\n",
              "      <td>33576500.0</td>\n",
              "      <td>208.630005</td>\n",
              "      <td>215.604762</td>\n",
              "      <td>215.134199</td>\n",
              "      <td>0.903738</td>\n",
              "      <td>-22.070007</td>\n",
              "      <td>-9.388307</td>\n",
              "      <td>0.961018</td>\n",
              "    </tr>\n",
              "  </tbody>\n",
              "</table>\n",
              "<p>8675 rows × 10 columns</p>\n",
              "</div>"
            ],
            "text/plain": [
              "            Open       Close         Vol  ...  Momentum 2        Roc  Desparity\n",
              "0       0.100694    0.100694   9302400.0  ...    0.006076  16.571411   1.044149\n",
              "1       0.100694    0.104167  31910400.0  ...    0.005208  19.333325   1.042362\n",
              "2       0.104167    0.105035  22003200.0  ...    0.006944  15.000009   1.078306\n",
              "3       0.105035    0.101562  21628800.0  ...    0.006076  17.285717   1.086362\n",
              "4       0.101562    0.101562  22924800.0  ...    0.001736  58.499972   1.047761\n",
              "...          ...         ...         ...  ...         ...        ...        ...\n",
              "8670  215.100006  214.250000  59664100.0  ...  -13.079987 -16.444971   0.996906\n",
              "8671  206.500000  202.660004  52924300.0  ...  -20.500000 -10.073171   0.956466\n",
              "8672  207.600006  211.289993  45679000.0  ...  -17.909988 -11.591298   0.963335\n",
              "8673  213.399994  205.369995  35461500.0  ...  -14.570007 -14.646526   0.991140\n",
              "8674  207.199997  204.029999  33576500.0  ...  -22.070007  -9.388307   0.961018\n",
              "\n",
              "[8675 rows x 10 columns]"
            ]
          },
          "metadata": {
            "tags": []
          },
          "execution_count": 16
        }
      ]
    },
    {
      "cell_type": "code",
      "metadata": {
        "id": "NqFQ2bMLclBO",
        "colab_type": "code",
        "colab": {}
      },
      "source": [
        "#Now target vectors\n",
        "tar_vec = []\n",
        "for k in range(21,len(data[\"Open\"])-1):\n",
        "    tar_vec.append(df_np[k+1,0]-df_np[k,3])"
      ],
      "execution_count": 17,
      "outputs": []
    },
    {
      "cell_type": "code",
      "metadata": {
        "id": "IxUCyBE2k3tP",
        "colab_type": "code",
        "colab": {}
      },
      "source": [
        "tv = [ 0 if x < 0 else 1 for x in tar_vec]"
      ],
      "execution_count": 18,
      "outputs": []
    },
    {
      "cell_type": "code",
      "metadata": {
        "id": "usAvsQYgl_tu",
        "colab_type": "code",
        "colab": {}
      },
      "source": [
        "df.drop(\"Roc\", inplace = True, axis= 1)"
      ],
      "execution_count": 19,
      "outputs": []
    },
    {
      "cell_type": "code",
      "metadata": {
        "id": "BxqWET6ulZSV",
        "colab_type": "code",
        "colab": {
          "base_uri": "https://localhost:8080/",
          "height": 195
        },
        "outputId": "1c8e0962-4842-4431-ba29-ad97d24826cb"
      },
      "source": [
        "from sklearn.preprocessing import MinMaxScaler\n",
        "scaler = MinMaxScaler()\n",
        "feature_minmax_transform_data = scaler.fit_transform(df[df.columns])\n",
        "feature_minmax_transform = pd.DataFrame(columns=df.columns, data=feature_minmax_transform_data, index=df.index)\n",
        "feature_minmax_transform.head()"
      ],
      "execution_count": 20,
      "outputs": [
        {
          "output_type": "execute_result",
          "data": {
            "text/html": [
              "<div>\n",
              "<style scoped>\n",
              "    .dataframe tbody tr th:only-of-type {\n",
              "        vertical-align: middle;\n",
              "    }\n",
              "\n",
              "    .dataframe tbody tr th {\n",
              "        vertical-align: top;\n",
              "    }\n",
              "\n",
              "    .dataframe thead th {\n",
              "        text-align: right;\n",
              "    }\n",
              "</style>\n",
              "<table border=\"1\" class=\"dataframe\">\n",
              "  <thead>\n",
              "    <tr style=\"text-align: right;\">\n",
              "      <th></th>\n",
              "      <th>Open</th>\n",
              "      <th>Close</th>\n",
              "      <th>Vol</th>\n",
              "      <th>High</th>\n",
              "      <th>Moving average</th>\n",
              "      <th>Moving Average 2</th>\n",
              "      <th>Momentum</th>\n",
              "      <th>Momentum 2</th>\n",
              "      <th>Desparity</th>\n",
              "    </tr>\n",
              "  </thead>\n",
              "  <tbody>\n",
              "    <tr>\n",
              "      <th>0</th>\n",
              "      <td>0.000027</td>\n",
              "      <td>0.000030</td>\n",
              "      <td>0.008899</td>\n",
              "      <td>0.000022</td>\n",
              "      <td>0.000000e+00</td>\n",
              "      <td>0.000000</td>\n",
              "      <td>0.686725</td>\n",
              "      <td>0.655294</td>\n",
              "      <td>0.581593</td>\n",
              "    </tr>\n",
              "    <tr>\n",
              "      <th>1</th>\n",
              "      <td>0.000027</td>\n",
              "      <td>0.000045</td>\n",
              "      <td>0.037649</td>\n",
              "      <td>0.000041</td>\n",
              "      <td>7.661816e-07</td>\n",
              "      <td>0.000003</td>\n",
              "      <td>0.671185</td>\n",
              "      <td>0.655276</td>\n",
              "      <td>0.579129</td>\n",
              "    </tr>\n",
              "    <tr>\n",
              "      <th>2</th>\n",
              "      <td>0.000042</td>\n",
              "      <td>0.000049</td>\n",
              "      <td>0.025050</td>\n",
              "      <td>0.000041</td>\n",
              "      <td>7.661816e-07</td>\n",
              "      <td>0.000003</td>\n",
              "      <td>0.698303</td>\n",
              "      <td>0.655313</td>\n",
              "      <td>0.628674</td>\n",
              "    </tr>\n",
              "    <tr>\n",
              "      <th>3</th>\n",
              "      <td>0.000045</td>\n",
              "      <td>0.000034</td>\n",
              "      <td>0.024574</td>\n",
              "      <td>0.000041</td>\n",
              "      <td>1.149272e-06</td>\n",
              "      <td>0.000005</td>\n",
              "      <td>0.682201</td>\n",
              "      <td>0.655294</td>\n",
              "      <td>0.639779</td>\n",
              "    </tr>\n",
              "    <tr>\n",
              "      <th>4</th>\n",
              "      <td>0.000030</td>\n",
              "      <td>0.000034</td>\n",
              "      <td>0.026222</td>\n",
              "      <td>0.000030</td>\n",
              "      <td>2.298545e-06</td>\n",
              "      <td>0.000005</td>\n",
              "      <td>0.611508</td>\n",
              "      <td>0.655202</td>\n",
              "      <td>0.586572</td>\n",
              "    </tr>\n",
              "  </tbody>\n",
              "</table>\n",
              "</div>"
            ],
            "text/plain": [
              "       Open     Close       Vol  ...  Momentum  Momentum 2  Desparity\n",
              "0  0.000027  0.000030  0.008899  ...  0.686725    0.655294   0.581593\n",
              "1  0.000027  0.000045  0.037649  ...  0.671185    0.655276   0.579129\n",
              "2  0.000042  0.000049  0.025050  ...  0.698303    0.655313   0.628674\n",
              "3  0.000045  0.000034  0.024574  ...  0.682201    0.655294   0.639779\n",
              "4  0.000030  0.000034  0.026222  ...  0.611508    0.655202   0.586572\n",
              "\n",
              "[5 rows x 9 columns]"
            ]
          },
          "metadata": {
            "tags": []
          },
          "execution_count": 20
        }
      ]
    },
    {
      "cell_type": "code",
      "metadata": {
        "id": "1FoNLH84RqSY",
        "colab_type": "code",
        "colab": {}
      },
      "source": [
        "from sklearn.model_selection import TimeSeriesSplit\n",
        "ts_split= TimeSeriesSplit(n_splits=10)\n",
        "for train_index, test_index in ts_split.split(feature_minmax_transform):\n",
        "        X_train, X_test = feature_minmax_transform[:len(train_index)], feature_minmax_transform[len(train_index): (len(train_index)+len(test_index))]\n",
        "        y_train, y_test = tv[:len(train_index)], tv[len(train_index): (len(train_index)+len(test_index))]\n"
      ],
      "execution_count": 21,
      "outputs": []
    },
    {
      "cell_type": "code",
      "metadata": {
        "id": "v-eHPMCtnehA",
        "colab_type": "code",
        "colab": {}
      },
      "source": [
        "from sklearn.metrics import mean_squared_error, r2_score\n",
        "def validate_result(model, model_name):\n",
        "    predicted = model.predict(X_test)\n",
        "    RSME_score = np.sqrt(mean_squared_error(validation_y, y_test))\n",
        "    print('RMSE: ', RSME_score)\n",
        "    \n",
        "    R2_score = r2_score(validation_y, predicted)\n",
        "    print('R2 score: ', R2_score)\n",
        "\n",
        "    plt.plot(validation_y.index, predicted,'r', label='Predict')\n",
        "    plt.plot(validation_y.index, validation_y,'b', label='Actual')\n",
        "    plt.ylabel('Price')\n",
        "    plt.gca().xaxis.set_major_formatter(mdates.DateFormatter('%Y-%m-%d'))\n",
        "    plt.gca().xaxis.set_major_locator(mdates.MonthLocator())\n",
        "    plt.title(model_name + ' Predict vs Actual')    \n",
        "    plt.legend(loc='upper right')\n",
        "    plt.show()"
      ],
      "execution_count": 22,
      "outputs": []
    },
    {
      "cell_type": "code",
      "metadata": {
        "id": "qRXxpLs_n0or",
        "colab_type": "code",
        "colab": {}
      },
      "source": [
        "from tensorflow.keras.layers import LSTM,Dense,Dropout\n",
        "from tensorflow.keras.models import Sequential"
      ],
      "execution_count": 23,
      "outputs": []
    },
    {
      "cell_type": "markdown",
      "metadata": {
        "id": "L1NhT08cpZqE",
        "colab_type": "text"
      },
      "source": [
        "Lets take history onto account just try to fit LSTM to fit to the time series data."
      ]
    },
    {
      "cell_type": "code",
      "metadata": {
        "id": "-katqfgZpYaj",
        "colab_type": "code",
        "colab": {}
      },
      "source": [
        "from tensorflow.keras.callbacks import ModelCheckpoint"
      ],
      "execution_count": 24,
      "outputs": []
    },
    {
      "cell_type": "code",
      "metadata": {
        "id": "_Z1vF36Vp2bO",
        "colab_type": "code",
        "colab": {}
      },
      "source": [
        "from tensorflow.keras.models import Sequential\n",
        "from tensorflow.keras.layers import Dense,Dropout,Embedding,LSTM,Bidirectional\n",
        "from tensorflow.keras.optimizers import Adam"
      ],
      "execution_count": 25,
      "outputs": []
    },
    {
      "cell_type": "code",
      "metadata": {
        "id": "wE45iPQiqcYe",
        "colab_type": "code",
        "colab": {
          "base_uri": "https://localhost:8080/",
          "height": 118
        },
        "outputId": "75c5cb8d-c2c4-4ea5-a417-4c33d2cb0b33"
      },
      "source": [
        "from sklearn.tree import DecisionTreeClassifier\n",
        "from xgboost import XGBClassifier\n",
        "from sklearn.ensemble import RandomForestClassifier\n",
        "from sklearn.linear_model import LogisticRegression\n",
        "dt = DecisionTreeClassifier()\n",
        "\n",
        "dt.fit(X_train, y_train)"
      ],
      "execution_count": 34,
      "outputs": [
        {
          "output_type": "execute_result",
          "data": {
            "text/plain": [
              "DecisionTreeClassifier(ccp_alpha=0.0, class_weight=None, criterion='gini',\n",
              "                       max_depth=None, max_features=None, max_leaf_nodes=None,\n",
              "                       min_impurity_decrease=0.0, min_impurity_split=None,\n",
              "                       min_samples_leaf=1, min_samples_split=2,\n",
              "                       min_weight_fraction_leaf=0.0, presort='deprecated',\n",
              "                       random_state=None, splitter='best')"
            ]
          },
          "metadata": {
            "tags": []
          },
          "execution_count": 34
        }
      ]
    },
    {
      "cell_type": "code",
      "metadata": {
        "id": "g1bBmA2Iyccs",
        "colab_type": "code",
        "colab": {
          "base_uri": "https://localhost:8080/",
          "height": 34
        },
        "outputId": "6fdbbf75-2fcb-4dd6-e7b0-1dd7ee3f92df"
      },
      "source": [
        "print(dt.score(X_train,y_train),dt.score(X_test,y_test))"
      ],
      "execution_count": 35,
      "outputs": [
        {
          "output_type": "stream",
          "text": [
            "1.0 0.549492385786802\n"
          ],
          "name": "stdout"
        }
      ]
    },
    {
      "cell_type": "code",
      "metadata": {
        "id": "gtpcc_3orQSy",
        "colab_type": "code",
        "colab": {}
      },
      "source": [
        "X_train =np.array(X_train)\n",
        "X_test =np.array(X_test)\n",
        "y_train = np.array(y_train)\n",
        "y_test = np.array(y_test)\n",
        "X_tr_t = X_train.reshape(X_train.shape[0], 1, X_train.shape[1])\n",
        "X_tst_t = X_test.reshape(X_test.shape[0], 1, X_test.shape[1])"
      ],
      "execution_count": 28,
      "outputs": []
    },
    {
      "cell_type": "code",
      "metadata": {
        "id": "sXMhO9Pfp6Jm",
        "colab_type": "code",
        "colab": {
          "base_uri": "https://localhost:8080/",
          "height": 689
        },
        "outputId": "08109849-a15a-4a47-e7f8-29f452f50799"
      },
      "source": [
        "from tensorflow.keras.callbacks import EarlyStopping\n",
        "import tensorflow.keras.backend as Ker\n",
        "Ker.clear_session()\n",
        "model_lstm = Sequential()\n",
        "model_lstm.add(LSTM(21, input_shape=(1, X_train.shape[1]), activation='relu', return_sequences=False))\n",
        "model_lstm.add(Dense(10, activation = \"relu\"))\n",
        "model_lstm.add(Dense(1,activation = \"sigmoid\"))\n",
        "early_stop = EarlyStopping(monitor='loss', patience=5, verbose=1)\n",
        "checkpoint = ModelCheckpoint('model.h5', verbose=1, monitor='val_accuracy',save_best_only=True, mode='auto')\n",
        "model_lstm.compile(loss = 'binary_crossentropy', optimizer='adam',metrics=[\"accuracy\"])\n",
        "history_model_lstm = model_lstm.fit(X_tr_t, y_train, epochs=10, batch_size=8, verbose=1, shuffle=True, validation_data=(X_tst_t,y_test),callbacks=[early_stop,checkpoint])"
      ],
      "execution_count": 29,
      "outputs": [
        {
          "output_type": "stream",
          "text": [
            "Epoch 1/10\n",
            "964/986 [============================>.] - ETA: 0s - loss: 0.6721 - accuracy: 0.5826\n",
            "Epoch 00001: val_accuracy improved from -inf to 0.42766, saving model to model.h5\n",
            "986/986 [==============================] - 3s 3ms/step - loss: 0.6721 - accuracy: 0.5827 - val_loss: 0.6963 - val_accuracy: 0.4277\n",
            "Epoch 2/10\n",
            "985/986 [============================>.] - ETA: 0s - loss: 0.6632 - accuracy: 0.5805\n",
            "Epoch 00002: val_accuracy did not improve from 0.42766\n",
            "986/986 [==============================] - 3s 3ms/step - loss: 0.6632 - accuracy: 0.5804 - val_loss: 0.7014 - val_accuracy: 0.4124\n",
            "Epoch 3/10\n",
            "969/986 [============================>.] - ETA: 0s - loss: 0.6618 - accuracy: 0.5846\n",
            "Epoch 00003: val_accuracy did not improve from 0.42766\n",
            "986/986 [==============================] - 3s 3ms/step - loss: 0.6624 - accuracy: 0.5837 - val_loss: 0.6957 - val_accuracy: 0.4124\n",
            "Epoch 4/10\n",
            "984/986 [============================>.] - ETA: 0s - loss: 0.6616 - accuracy: 0.5810\n",
            "Epoch 00004: val_accuracy did not improve from 0.42766\n",
            "986/986 [==============================] - 2s 2ms/step - loss: 0.6617 - accuracy: 0.5810 - val_loss: 0.7009 - val_accuracy: 0.4124\n",
            "Epoch 5/10\n",
            "979/986 [============================>.] - ETA: 0s - loss: 0.6619 - accuracy: 0.5780\n",
            "Epoch 00005: val_accuracy improved from 0.42766 to 0.59137, saving model to model.h5\n",
            "986/986 [==============================] - 2s 2ms/step - loss: 0.6618 - accuracy: 0.5785 - val_loss: 0.6910 - val_accuracy: 0.5914\n",
            "Epoch 6/10\n",
            "966/986 [============================>.] - ETA: 0s - loss: 0.6611 - accuracy: 0.5840\n",
            "Epoch 00006: val_accuracy did not improve from 0.59137\n",
            "986/986 [==============================] - 2s 2ms/step - loss: 0.6616 - accuracy: 0.5829 - val_loss: 0.6913 - val_accuracy: 0.5914\n",
            "Epoch 7/10\n",
            "967/986 [============================>.] - ETA: 0s - loss: 0.6615 - accuracy: 0.5801\n",
            "Epoch 00007: val_accuracy improved from 0.59137 to 0.59645, saving model to model.h5\n",
            "986/986 [==============================] - 2s 2ms/step - loss: 0.6614 - accuracy: 0.5801 - val_loss: 0.6925 - val_accuracy: 0.5964\n",
            "Epoch 8/10\n",
            "986/986 [==============================] - ETA: 0s - loss: 0.6609 - accuracy: 0.5837\n",
            "Epoch 00008: val_accuracy improved from 0.59645 to 0.59772, saving model to model.h5\n",
            "986/986 [==============================] - 2s 2ms/step - loss: 0.6609 - accuracy: 0.5837 - val_loss: 0.6921 - val_accuracy: 0.5977\n",
            "Epoch 9/10\n",
            "970/986 [============================>.] - ETA: 0s - loss: 0.6602 - accuracy: 0.5857\n",
            "Epoch 00009: val_accuracy did not improve from 0.59772\n",
            "986/986 [==============================] - 2s 2ms/step - loss: 0.6606 - accuracy: 0.5851 - val_loss: 0.6903 - val_accuracy: 0.5876\n",
            "Epoch 10/10\n",
            "960/986 [============================>.] - ETA: 0s - loss: 0.6605 - accuracy: 0.5865\n",
            "Epoch 00010: val_accuracy did not improve from 0.59772\n",
            "986/986 [==============================] - 2s 2ms/step - loss: 0.6605 - accuracy: 0.5863 - val_loss: 0.6905 - val_accuracy: 0.5876\n"
          ],
          "name": "stdout"
        }
      ]
    },
    {
      "cell_type": "code",
      "metadata": {
        "id": "AWnbJaD4ZU3d",
        "colab_type": "code",
        "colab": {}
      },
      "source": [
        "y_pr = [1 if x > 0.5 else 1 for x in model_lstm.predict(X_tst_t)]"
      ],
      "execution_count": 30,
      "outputs": []
    },
    {
      "cell_type": "code",
      "metadata": {
        "id": "JtfUAOJF2izM",
        "colab_type": "code",
        "colab": {
          "base_uri": "https://localhost:8080/",
          "height": 34
        },
        "outputId": "2cf071c3-f9cd-4388-ee54-c192d446bb6d"
      },
      "source": [
        "from sklearn.metrics import accuracy_score\n",
        "accuracy_score(y_test,y_pr)"
      ],
      "execution_count": 31,
      "outputs": [
        {
          "output_type": "execute_result",
          "data": {
            "text/plain": [
              "0.5875634517766497"
            ]
          },
          "metadata": {
            "tags": []
          },
          "execution_count": 31
        }
      ]
    },
    {
      "cell_type": "markdown",
      "metadata": {
        "id": "VzxjaExW0Xf2",
        "colab_type": "text"
      },
      "source": [
        "# Absurd Models"
      ]
    },
    {
      "cell_type": "markdown",
      "metadata": {
        "id": "aXwEXhdoFEab",
        "colab_type": "text"
      },
      "source": [
        "The reson for their being so much randomness in the models is due to the target variable. As i think the data of the Closing today and opening the next day is almost similar hance the diffrence is sort of random noise."
      ]
    },
    {
      "cell_type": "code",
      "metadata": {
        "id": "wtOcqn09bSkn",
        "colab_type": "code",
        "colab": {
          "base_uri": "https://localhost:8080/",
          "height": 265
        },
        "outputId": "2003c93c-1165-4a80-ec3c-cd1eb30f00d6"
      },
      "source": [
        "#plotting the terget variable\n",
        "plt.plot(tar_vec)\n",
        "plt.show()"
      ],
      "execution_count": 36,
      "outputs": [
        {
          "output_type": "display_data",
          "data": {
            "image/png": "[encoded data removed]",
            "text/plain": [
              "<Figure size 432x288 with 1 Axes>"
            ]
          },
          "metadata": {
            "tags": [],
            "needs_background": "light"
          }
        }
      ]
    },
    {
      "cell_type": "markdown",
      "metadata": {
        "id": "QVvreax4GQaG",
        "colab_type": "text"
      },
      "source": [
        "As can be infered is almost zero for most of the period and hence there is just too much randomness in the data(and hence the models) to predict and thing usefull."
      ]
    },
    {
      "cell_type": "code",
      "metadata": {
        "id": "JEfOTDf7GNhC",
        "colab_type": "code",
        "colab": {}
      },
      "source": [
        ""
      ],
      "execution_count": null,
      "outputs": []
    }
  ]
}